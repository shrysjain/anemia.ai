{
  "cells": [
    {
      "cell_type": "code",
      "execution_count": null,
      "metadata": {
        "id": "je2ksBgMryzz"
      },
      "outputs": [],
      "source": [
        "from google.colab import drive\n",
        "drive.mount('/content/drive', force_remount=True)\n",
        "import tensorflow as tf"
      ]
    },
    {
      "cell_type": "code",
      "execution_count": null,
      "metadata": {
        "id": "OYf1FyEgRiRN"
      },
      "outputs": [],
      "source": [
        "import os\n",
        "from PIL import Image\n",
        "\n",
        "f = r\"/content/drive/MyDrive/Fingernails/train/Anemic\"\n",
        "g = r\"/content/drive/MyDrive/Fingernails/train/NonAnemic\"\n",
        "h = r\"/content/drive/MyDrive/Fingernails/test/Anemic\"\n",
        "i = r\"/content/drive/MyDrive/Fingernails/test/NonAnemic\"\n",
        "\n",
        "for file in os.listdir(f):\n",
        "    f_img = f+\"/\"+file\n",
        "    img = Image.open(f_img)\n",
        "    img = img.resize((90,90))\n",
        "    img.save(f_img)\n",
        "\n",
        "for file in os.listdir(g):\n",
        "    g_img = g+\"/\"+file\n",
        "    img = Image.open(g_img)\n",
        "    img = img.resize((90,90))\n",
        "    img.save(g_img)\n",
        "\n",
        "for file in os.listdir(h):\n",
        "    h_img = h+\"/\"+file\n",
        "    img = Image.open(h_img)\n",
        "    img = img.resize((90,90))\n",
        "    img.save(h_img)\n",
        "\n",
        "for file in os.listdir(i):\n",
        "    i_img = i+\"/\"+file\n",
        "    img = Image.open(i_img)\n",
        "    img = img.resize((90,90))\n",
        "    img.save(i_img)"
      ]
    },
    {
      "cell_type": "code",
      "execution_count": null,
      "metadata": {
        "id": "0nWSBmtMdva3"
      },
      "outputs": [],
      "source": [
        "import numpy as np\n",
        "import pandas as pd\n",
        "import matplotlib as mpl"
      ]
    },
    {
      "cell_type": "code",
      "execution_count": null,
      "metadata": {
        "id": "SoMTXoTJ2pnh"
      },
      "outputs": [],
      "source": [
        "import tensorflow as tf\n",
        "from tensorflow.keras.layers import Input, Lambda, Dense, Flatten, Conv2D, MaxPooling2D, Dropout\n",
        "from tensorflow.keras.models import Model\n",
        "from tensorflow.keras.applications.resnet50 import ResNet50\n",
        "from tensorflow.keras.applications.vgg16 import VGG16\n",
        "from tensorflow.keras.applications.inception_v3 import InceptionV3\n",
        "from tensorflow.keras.preprocessing import image\n",
        "from tensorflow.keras.preprocessing.image import ImageDataGenerator, load_img\n",
        "from tensorflow.keras.models import Sequential\n",
        "from glob import glob"
      ]
    },
    {
      "cell_type": "code",
      "execution_count": null,
      "metadata": {
        "id": "EsHxJCwf6dwR"
      },
      "outputs": [],
      "source": [
        "IMAGE_SIZE = [90, 90]\n",
        "\n",
        "train_path = \"/content/drive/MyDrive/FINAL/TRAIN\"\n",
        "valid_path = \"/content/drive/MyDrive/FINAL/TEST\"\n",
        "\n",
        "inception = InceptionV3(input_shape = IMAGE_SIZE + [3], weights = 'imagenet', include_top = False)"
      ]
    },
    {
      "cell_type": "code",
      "execution_count": null,
      "metadata": {
        "id": "Na9mRvPpfVDD"
      },
      "outputs": [],
      "source": [
        "for layer in inception.layers:\n",
        "  layer.trainable = False"
      ]
    },
    {
      "cell_type": "code",
      "execution_count": null,
      "metadata": {
        "id": "oTMPFopJgJ2x"
      },
      "outputs": [],
      "source": [
        "folders = glob(\"/content/drive/MyDrive/FINAL/TRAIN/*\")"
      ]
    },
    {
      "cell_type": "code",
      "execution_count": null,
      "metadata": {
        "id": "hPvIsGnsgig0"
      },
      "outputs": [],
      "source": [
        "x = Flatten()(inception.output)"
      ]
    },
    {
      "cell_type": "code",
      "execution_count": null,
      "metadata": {
        "id": "2pajIGdZgonh"
      },
      "outputs": [],
      "source": [
        "prediction = Dense(2, activation = 'sigmoid')(x)"
      ]
    },
    {
      "cell_type": "code",
      "execution_count": null,
      "metadata": {
        "id": "aMAVnH0WhAFk"
      },
      "outputs": [],
      "source": [
        "model = Model(inputs=inception.input, outputs=prediction)"
      ]
    },
    {
      "cell_type": "code",
      "execution_count": null,
      "metadata": {
        "id": "XKl1LY3yxv7N"
      },
      "outputs": [],
      "source": [
        "model.compile(\n",
        "    loss = 'categorical_crossentropy',\n",
        "    optimizer = tf.keras.optimizers.legacy.Adam(),\n",
        "    metrics=['accuracy']\n",
        ")"
      ]
    },
    {
      "cell_type": "code",
      "execution_count": null,
      "metadata": {
        "id": "pWDs9FzHyW8K"
      },
      "outputs": [],
      "source": [
        "from tensorflow.keras.preprocessing.image import ImageDataGenerator\n",
        "\n",
        "train_datagen = ImageDataGenerator(rescale=1./255,\n",
        "                                   shear_range = 0.2,\n",
        "                                   zoom_range = 0.2,\n",
        "                                   horizontal_flip = True)\n",
        "\n",
        "test_datagen = ImageDataGenerator(rescale=1./255)"
      ]
    },
    {
      "cell_type": "code",
      "execution_count": null,
      "metadata": {
        "id": "fB8uf4Qj0iNM"
      },
      "outputs": [],
      "source": [
        "training_set = train_datagen.flow_from_directory(\n",
        "  directory='/content/drive/MyDrive/Fingernails/train',\n",
        "  target_size = (90, 90),\n",
        "  color_mode=\"rgb\",\n",
        "  batch_size = 32,\n",
        "  class_mode = 'categorical',\n",
        "  subset=\"training\"\n",
        ")"
      ]
    },
    {
      "cell_type": "code",
      "execution_count": null,
      "metadata": {
        "id": "uZ19z0Ki2lAq"
      },
      "outputs": [],
      "source": [
        "test_set = test_datagen.flow_from_directory('/content/drive/MyDrive/Fingernails/test',\n",
        "  target_size = (90, 90),\n",
        "  batch_size = 32,\n",
        "  color_mode = 'rgb',\n",
        "  class_mode = 'categorical',\n",
        ")"
      ]
    },
    {
      "cell_type": "code",
      "execution_count": null,
      "metadata": {
        "id": "9Dxhd80fMe5L"
      },
      "outputs": [],
      "source": [
        "r = model.fit(\n",
        "  x=training_set,\n",
        "  validation_data=test_set,\n",
        "  epochs=8,\n",
        "  steps_per_epoch=len(training_set),\n",
        "  validation_steps=len(test_set),\n",
        "  verbose=1\n",
        ")"
      ]
    },
    {
      "cell_type": "code",
      "source": [
        "!pip install tensorflowjs"
      ],
      "metadata": {
        "id": "tf-O9sS4hzGf"
      },
      "execution_count": null,
      "outputs": []
    },
    {
      "cell_type": "code",
      "source": [
        "import tensorflowjs as tfjs\n",
        "\n",
        "tfjs.converters.save_keras_model(model, '/content/drive/MyDrive/anemiamodel')"
      ],
      "metadata": {
        "id": "BNGJUsRthepQ"
      },
      "execution_count": null,
      "outputs": []
    }
  ],
  "metadata": {
    "accelerator": "GPU",
    "colab": {
      "gpuType": "T4",
      "private_outputs": true,
      "provenance": []
    },
    "kernelspec": {
      "display_name": "Python 3",
      "name": "python3"
    },
    "language_info": {
      "name": "python"
    }
  },
  "nbformat": 4,
  "nbformat_minor": 0
}